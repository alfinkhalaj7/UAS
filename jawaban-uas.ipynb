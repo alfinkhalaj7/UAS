{
 "cells": [
  {
   "cell_type": "markdown",
   "metadata": {},
   "source": [
    "# JAWABAN ANALISA UAS"
   ]
  },
  {
   "cell_type": "markdown",
   "metadata": {},
   "source": [
    "# STUDI KASUS DENGAN TEMA KENDARAAN"
   ]
  },
  {
   "cell_type": "markdown",
   "metadata": {},
   "source": [
    "NAMA : ALFIN KAHALAJ SYAHRUWARDI\n",
    "\n",
    "NIM  : 20230801465\n",
    "\n",
    "LOGISTIK merupakan suatu rangkaian upaya yang mencakup efektivitas perencanaan, implementasi, sampai pengawasan atas suatu proses perpindahan produk barang atau jasa, energi, atau sumber daya lain, dari mulai titik awal hingga titik pengguna\n",
    "\n",
    "> What (Apa): Apa yang terjadi? Apa yang menjadi masalah atau situasi yang sedang dihadapi?\n",
    "\n",
    "> Who (Siapa): Siapa yang terlibat dalam situasi ini? Siapa yang terkena dampak atau siapa yang bertanggung jawab?\n",
    "\n",
    "> When (Kapan): Kapan peristiwa ini terjadi? Kapan masalah ini mulai muncul atau kapan harus diselesaikan?\n",
    "\n",
    "> Where (Di mana): Di mana peristiwa ini terjadi? Di mana lokasi atau konteks masalah ini?\n",
    "\n",
    "> Why (Mengapa): Mengapa hal ini terjadi? Apa penyebab atau alasan di balik situasi ini?\n",
    "\n",
    "> How (Bagaimana): Bagaimana peristiwa ini terjadi? Bagaimana masalah ini bisa diatasi atau bagaimana solusi dapat diterapkan?"
   ]
  }
 ],
 "metadata": {
  "kernelspec": {
   "display_name": "venv",
   "language": "python",
   "name": "python3"
  },
  "language_info": {
   "name": "python",
   "version": "3.10.12"
  }
 },
 "nbformat": 4,
 "nbformat_minor": 2
}
