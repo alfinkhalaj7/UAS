{
 "cells": [
  {
   "cell_type": "markdown",
   "metadata": {},
   "source": [
    "# function of Exceptopn Handling"
   ]
  },
  {
   "cell_type": "code",
   "execution_count": 2,
   "metadata": {},
   "outputs": [
    {
     "name": "stdout",
     "output_type": "stream",
     "text": [
      "Hasil pembagian 10 oleh 2 adalah 5.0\n",
      "Eksekusi blok finally selesai.\n",
      "Error: Pembagian oleh nol tidak diizinkan!\n",
      "Eksekusi blok finally selesai.\n"
     ]
    }
   ],
   "source": [
    "def divide_numbers(a, b):\n",
    "    try:\n",
    "        result = a / b\n",
    "    except ZeroDivisionError:\n",
    "        print(\"Error: Pembagian oleh nol tidak diizinkan!\")\n",
    "    else:\n",
    "        print(f\"Hasil pembagian {a} oleh {b} adalah {result}\")\n",
    "    finally:\n",
    "        print(\"Eksekusi blok finally selesai.\")\n",
    "\n",
    "# Contoh pemanggilan fungsi dengan penanganan exception\n",
    "divide_numbers(10, 2)  # Output: Hasil pembagian 10 oleh 2 adalah 5.0 Eksekusi blok finally selesai.\n",
    "divide_numbers(10, 0)  # Output: Error: Pembagian oleh nol tidak diizinkan! Eksekusi blok finally selesai.\n"
   ]
  }
 ],
 "metadata": {
  "kernelspec": {
   "display_name": "Python 3",
   "language": "python",
   "name": "python3"
  },
  "language_info": {
   "codemirror_mode": {
    "name": "ipython",
    "version": 3
   },
   "file_extension": ".py",
   "mimetype": "text/x-python",
   "name": "python",
   "nbconvert_exporter": "python",
   "pygments_lexer": "ipython3",
   "version": "3.10.12"
  }
 },
 "nbformat": 4,
 "nbformat_minor": 2
}
