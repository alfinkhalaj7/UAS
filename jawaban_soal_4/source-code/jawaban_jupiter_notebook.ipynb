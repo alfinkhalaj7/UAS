{
 "cells": [
  {
   "cell_type": "code",
   "execution_count": 1,
   "metadata": {},
   "outputs": [
    {
     "name": "stdout",
     "output_type": "stream",
     "text": [
      "(1, 'Alfin', 19)\n",
      "(2, 'Bob', 20)\n"
     ]
    }
   ],
   "source": [
    "import sqlite3\n",
    "\n",
    "# Membuat koneksi ke database\n",
    "conn = sqlite3.connect('example.db')\n",
    "\n",
    "# Membuat cursor untuk mengeksekusi perintah SQL\n",
    "cursor = conn.cursor()\n",
    "\n",
    "# Membuat tabel 'user' jika belum ada\n",
    "cursor.execute('''CREATE TABLE IF NOT EXISTS user\n",
    "                (Id INTEGER PRIMARY KEY, name TEXT NOT NULL, age INTEGER)''')\n",
    "\n",
    "# Memasukkan data ke dalam tabel\n",
    "cursor.execute(\"INSERT INTO user (name, age) VALUES (?, ?)\", ('Alfin', 19))\n",
    "cursor.execute(\"INSERT INTO user (name, age) VALUES (?, ?)\", ('Bob', 20))\n",
    "\n",
    "# Commit perubahan ke database\n",
    "conn.commit()\n",
    "\n",
    "# Membaca data dari tabel\n",
    "cursor.execute('SELECT * FROM user')\n",
    "rows = cursor.fetchall()\n",
    "\n",
    "# Menampilkan data hasil query\n",
    "for row in rows:\n",
    "    print(row)\n",
    "\n",
    "# Menutup koneksi dan cursor\n",
    "cursor.close()\n",
    "conn.close()\n"
   ]
  }
 ],
 "metadata": {
  "kernelspec": {
   "display_name": "Python 3",
   "language": "python",
   "name": "python3"
  },
  "language_info": {
   "codemirror_mode": {
    "name": "ipython",
    "version": 3
   },
   "file_extension": ".py",
   "mimetype": "text/x-python",
   "name": "python",
   "nbconvert_exporter": "python",
   "pygments_lexer": "ipython3",
   "version": "3.10.12"
  }
 },
 "nbformat": 4,
 "nbformat_minor": 2
}
